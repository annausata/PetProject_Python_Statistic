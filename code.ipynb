{
 "cells": [
  {
   "cell_type": "markdown",
   "id": "481e02657ba6bd94",
   "metadata": {},
   "source": [
    "\n",
    "\n",
    "Вибірковий метод. Створення інтервального \n",
    "статистичного розподілу вибірки, графічні зображення \n",
    "та числові характеристики вибірки"
   ]
  },
  {
   "cell_type": "code",
   "execution_count": 12,
   "id": "7edfd290-00d1-4e7d-986e-a69bc08737e9",
   "metadata": {
    "ExecuteTime": {
     "end_time": "2025-05-22T08:23:26.990139Z",
     "start_time": "2025-05-22T08:23:23.842356Z"
    }
   },
   "outputs": [
    {
     "data": {
      "text/html": [
       "<div>\n",
       "<style scoped>\n",
       "    .dataframe tbody tr th:only-of-type {\n",
       "        vertical-align: middle;\n",
       "    }\n",
       "\n",
       "    .dataframe tbody tr th {\n",
       "        vertical-align: top;\n",
       "    }\n",
       "\n",
       "    .dataframe thead th {\n",
       "        text-align: right;\n",
       "    }\n",
       "</style>\n",
       "<table border=\"1\" class=\"dataframe\">\n",
       "  <thead>\n",
       "    <tr style=\"text-align: right;\">\n",
       "      <th></th>\n",
       "      <th>0</th>\n",
       "      <th>1</th>\n",
       "      <th>2</th>\n",
       "      <th>3</th>\n",
       "      <th>4</th>\n",
       "      <th>5</th>\n",
       "      <th>6</th>\n",
       "      <th>7</th>\n",
       "      <th>8</th>\n",
       "      <th>9</th>\n",
       "    </tr>\n",
       "  </thead>\n",
       "  <tbody>\n",
       "    <tr>\n",
       "      <th>0</th>\n",
       "      <td>2.205</td>\n",
       "      <td>-1.237</td>\n",
       "      <td>-1.475</td>\n",
       "      <td>1.989</td>\n",
       "      <td>1.311</td>\n",
       "      <td>1.920</td>\n",
       "      <td>1.512</td>\n",
       "      <td>0.626</td>\n",
       "      <td>-1.705</td>\n",
       "      <td>1.655</td>\n",
       "    </tr>\n",
       "    <tr>\n",
       "      <th>1</th>\n",
       "      <td>1.645</td>\n",
       "      <td>-1.134</td>\n",
       "      <td>-1.893</td>\n",
       "      <td>-1.823</td>\n",
       "      <td>1.307</td>\n",
       "      <td>-1.472</td>\n",
       "      <td>-1.557</td>\n",
       "      <td>1.821</td>\n",
       "      <td>1.358</td>\n",
       "      <td>2.886</td>\n",
       "    </tr>\n",
       "    <tr>\n",
       "      <th>2</th>\n",
       "      <td>0.253</td>\n",
       "      <td>-1.029</td>\n",
       "      <td>0.880</td>\n",
       "      <td>0.315</td>\n",
       "      <td>0.157</td>\n",
       "      <td>2.080</td>\n",
       "      <td>-0.981</td>\n",
       "      <td>-1.635</td>\n",
       "      <td>1.644</td>\n",
       "      <td>0.964</td>\n",
       "    </tr>\n",
       "    <tr>\n",
       "      <th>3</th>\n",
       "      <td>3.609</td>\n",
       "      <td>0.111</td>\n",
       "      <td>-0.184</td>\n",
       "      <td>0.911</td>\n",
       "      <td>1.348</td>\n",
       "      <td>0.406</td>\n",
       "      <td>0.155</td>\n",
       "      <td>-0.688</td>\n",
       "      <td>1.374</td>\n",
       "      <td>-1.736</td>\n",
       "    </tr>\n",
       "    <tr>\n",
       "      <th>4</th>\n",
       "      <td>1.011</td>\n",
       "      <td>1.344</td>\n",
       "      <td>-0.231</td>\n",
       "      <td>-0.662</td>\n",
       "      <td>0.009</td>\n",
       "      <td>-1.317</td>\n",
       "      <td>-3.234</td>\n",
       "      <td>-0.130</td>\n",
       "      <td>-0.474</td>\n",
       "      <td>-0.019</td>\n",
       "    </tr>\n",
       "    <tr>\n",
       "      <th>5</th>\n",
       "      <td>-1.124</td>\n",
       "      <td>-0.034</td>\n",
       "      <td>-0.365</td>\n",
       "      <td>0.300</td>\n",
       "      <td>0.555</td>\n",
       "      <td>-2.265</td>\n",
       "      <td>0.923</td>\n",
       "      <td>0.481</td>\n",
       "      <td>0.273</td>\n",
       "      <td>-0.122</td>\n",
       "    </tr>\n",
       "    <tr>\n",
       "      <th>6</th>\n",
       "      <td>0.249</td>\n",
       "      <td>0.299</td>\n",
       "      <td>0.306</td>\n",
       "      <td>-0.410</td>\n",
       "      <td>-1.369</td>\n",
       "      <td>-0.096</td>\n",
       "      <td>0.354</td>\n",
       "      <td>0.877</td>\n",
       "      <td>1.421</td>\n",
       "      <td>-4.194</td>\n",
       "    </tr>\n",
       "    <tr>\n",
       "      <th>7</th>\n",
       "      <td>-2.570</td>\n",
       "      <td>-1.549</td>\n",
       "      <td>-0.362</td>\n",
       "      <td>-0.006</td>\n",
       "      <td>-0.567</td>\n",
       "      <td>0.345</td>\n",
       "      <td>-1.037</td>\n",
       "      <td>-0.733</td>\n",
       "      <td>-0.841</td>\n",
       "      <td>1.191</td>\n",
       "    </tr>\n",
       "    <tr>\n",
       "      <th>8</th>\n",
       "      <td>-2.059</td>\n",
       "      <td>2.101</td>\n",
       "      <td>0.218</td>\n",
       "      <td>-0.359</td>\n",
       "      <td>-0.516</td>\n",
       "      <td>-0.078</td>\n",
       "      <td>-0.107</td>\n",
       "      <td>0.657</td>\n",
       "      <td>-0.707</td>\n",
       "      <td>-0.197</td>\n",
       "    </tr>\n",
       "    <tr>\n",
       "      <th>9</th>\n",
       "      <td>-0.472</td>\n",
       "      <td>-0.877</td>\n",
       "      <td>-0.497</td>\n",
       "      <td>-0.144</td>\n",
       "      <td>1.094</td>\n",
       "      <td>0.412</td>\n",
       "      <td>-0.990</td>\n",
       "      <td>0.107</td>\n",
       "      <td>-0.816</td>\n",
       "      <td>0.356</td>\n",
       "    </tr>\n",
       "  </tbody>\n",
       "</table>\n",
       "</div>"
      ],
      "text/plain": [
       "       0      1      2      3      4      5      6      7      8      9\n",
       "0  2.205 -1.237 -1.475  1.989  1.311  1.920  1.512  0.626 -1.705  1.655\n",
       "1  1.645 -1.134 -1.893 -1.823  1.307 -1.472 -1.557  1.821  1.358  2.886\n",
       "2  0.253 -1.029  0.880  0.315  0.157  2.080 -0.981 -1.635  1.644  0.964\n",
       "3  3.609  0.111 -0.184  0.911  1.348  0.406  0.155 -0.688  1.374 -1.736\n",
       "4  1.011  1.344 -0.231 -0.662  0.009 -1.317 -3.234 -0.130 -0.474 -0.019\n",
       "5 -1.124 -0.034 -0.365  0.300  0.555 -2.265  0.923  0.481  0.273 -0.122\n",
       "6  0.249  0.299  0.306 -0.410 -1.369 -0.096  0.354  0.877  1.421 -4.194\n",
       "7 -2.570 -1.549 -0.362 -0.006 -0.567  0.345 -1.037 -0.733 -0.841  1.191\n",
       "8 -2.059  2.101  0.218 -0.359 -0.516 -0.078 -0.107  0.657 -0.707 -0.197\n",
       "9 -0.472 -0.877 -0.497 -0.144  1.094  0.412 -0.990  0.107 -0.816  0.356"
      ]
     },
     "execution_count": 12,
     "metadata": {},
     "output_type": "execute_result"
    }
   ],
   "source": [
    "# Імпорт вибіркових даних із Excel-файлу\n",
    "import pandas as pd\n",
    "\n",
    "df = pd.read_excel('sample12.xlsx', header=None)\n",
    "df"
   ]
  },
  {
   "cell_type": "code",
   "execution_count": 13,
   "id": "c3ee68d17e6bd338",
   "metadata": {
    "ExecuteTime": {
     "end_time": "2025-05-22T08:23:27.107655Z",
     "start_time": "2025-05-22T08:23:27.067390Z"
    }
   },
   "outputs": [
    {
     "data": {
      "text/plain": [
       "array([-4.194, -3.234, -2.57 , -2.265, -2.059, -1.893, -1.823, -1.736,\n",
       "       -1.705, -1.635, -1.557, -1.549, -1.475, -1.472, -1.369, -1.317,\n",
       "       -1.237, -1.134, -1.124, -1.037, -1.029, -0.99 , -0.981, -0.877,\n",
       "       -0.841, -0.816, -0.733, -0.707, -0.688, -0.662, -0.567, -0.516,\n",
       "       -0.497, -0.474, -0.472, -0.41 , -0.365, -0.362, -0.359, -0.231,\n",
       "       -0.197, -0.184, -0.144, -0.13 , -0.122, -0.107, -0.096, -0.078,\n",
       "       -0.034, -0.019, -0.006,  0.009,  0.107,  0.111,  0.155,  0.157,\n",
       "        0.218,  0.249,  0.253,  0.273,  0.299,  0.3  ,  0.306,  0.315,\n",
       "        0.345,  0.354,  0.356,  0.406,  0.412,  0.481,  0.555,  0.626,\n",
       "        0.657,  0.877,  0.88 ,  0.911,  0.923,  0.964,  1.011,  1.094,\n",
       "        1.191,  1.307,  1.311,  1.344,  1.348,  1.358,  1.374,  1.421,\n",
       "        1.512,  1.644,  1.645,  1.655,  1.821,  1.92 ,  1.989,  2.08 ,\n",
       "        2.101,  2.205,  2.886,  3.609])"
      ]
     },
     "execution_count": 13,
     "metadata": {},
     "output_type": "execute_result"
    }
   ],
   "source": [
    "# Перетворення вибірки у відсортований одномірний масив\n",
    "\n",
    "import numpy as np\n",
    "X = df.to_numpy().flatten()\n",
    "X = np.sort(X)\n",
    "X"
   ]
  },
  {
   "cell_type": "code",
   "execution_count": 14,
   "id": "a7bdaccf59d05ea0",
   "metadata": {
    "ExecuteTime": {
     "end_time": "2025-05-22T08:23:27.368107Z",
     "start_time": "2025-05-22T08:23:27.362372Z"
    }
   },
   "outputs": [
    {
     "data": {
      "text/plain": [
       "np.float64(7.803)"
      ]
     },
     "execution_count": 14,
     "metadata": {},
     "output_type": "execute_result"
    }
   ],
   "source": [
    "# Обчислення розмаху: різниця між максимальним і мінімальним значеннями вибірки\n",
    "\n",
    "R = X[-1] - X[0]\n",
    "R"
   ]
  },
  {
   "cell_type": "code",
   "execution_count": 15,
   "id": "24e61f8abf0e0bc0",
   "metadata": {
    "ExecuteTime": {
     "end_time": "2025-05-22T08:23:27.562210Z",
     "start_time": "2025-05-22T08:23:27.532112Z"
    }
   },
   "outputs": [
    {
     "name": "stdout",
     "output_type": "stream",
     "text": [
      "8 1.02\n"
     ]
    },
    {
     "data": {
      "text/plain": [
       "np.float64(-4.704)"
      ]
     },
     "execution_count": 15,
     "metadata": {},
     "output_type": "execute_result"
    }
   ],
   "source": [
    "# Обчислення обсягу вибірки\n",
    "n = len(X)\n",
    "# Визначення оптимальної кількості інтервалів за формулою Стерджеса\n",
    "m = int(np.round(1 + 3.3221 * np.log10(n)))\n",
    "# Розрахунок ширини інтервалу з округленням та корекційною поправкою\n",
    "k = np.round(R/m, 1) + 0.02\n",
    "print(m, k)\n",
    "# Визначення початку першого інтервалу зі зсувом на півінтервалу вліво\n",
    "x_start = np.round(X[0] - k/2, 3)\n",
    "x_start\n"
   ]
  },
  {
   "cell_type": "code",
   "execution_count": 16,
   "id": "14a93c5d40bf62e9",
   "metadata": {
    "ExecuteTime": {
     "end_time": "2025-05-22T08:23:27.943699Z",
     "start_time": "2025-05-22T08:23:27.938142Z"
    }
   },
   "outputs": [
    {
     "data": {
      "text/plain": [
       "array([[-4.704, -3.684],\n",
       "       [-3.684, -2.664],\n",
       "       [-2.664, -1.644],\n",
       "       [-1.644, -0.624],\n",
       "       [-0.624,  0.396],\n",
       "       [ 0.396,  1.416],\n",
       "       [ 1.416,  2.436],\n",
       "       [ 2.436,  3.456]])"
      ]
     },
     "execution_count": 16,
     "metadata": {},
     "output_type": "execute_result"
    }
   ],
   "source": [
    "# Ініціалізація масиву для зберігання меж інтервалів (ліва та права границя)\n",
    "intervals = np.zeros(shape=(m, 2), dtype=float)\n",
    "# Встановлення меж першого інтервалу\n",
    "intervals[0, 0] = x_start\n",
    "intervals[0, 1] = np.round(x_start + k, 3)\n",
    "# Побудова наступних інтервалів шляхом додавання ширини k до попередньої правої межі\n",
    "for i in range(1, m):\n",
    "    intervals[i, 0] = intervals[i-1, 1]\n",
    "    intervals[i, 1] = np.round(intervals[i, 0] + k, 3)\n",
    "intervals"
   ]
  },
  {
   "cell_type": "code",
   "execution_count": 17,
   "id": "8454363608c2e001",
   "metadata": {
    "ExecuteTime": {
     "end_time": "2025-05-22T08:23:28.047901Z",
     "start_time": "2025-05-22T08:23:28.042384Z"
    }
   },
   "outputs": [
    {
     "data": {
      "text/plain": [
       "array([-4.194, -3.174, -2.154, -1.134, -0.114,  0.906,  1.926,  2.946])"
      ]
     },
     "execution_count": 17,
     "metadata": {},
     "output_type": "execute_result"
    }
   ],
   "source": [
    "# Ініціалізація масиву для зберігання середніх значень кожного інтервалу\n",
    "interval_mids = np.zeros(shape=m, dtype=float)\n",
    "# Обчислення центрів інтервалів як середнього арифметичного лівої та правої меж\n",
    "for i in range(m):\n",
    "    interval_mids[i] = np.round((intervals[i, 0] + intervals[i, 1])/2, 3)\n",
    "interval_mids"
   ]
  },
  {
   "cell_type": "code",
   "execution_count": 18,
   "id": "6bee701af05e196e",
   "metadata": {
    "ExecuteTime": {
     "end_time": "2025-05-22T08:23:28.128531Z",
     "start_time": "2025-05-22T08:23:28.121407Z"
    }
   },
   "outputs": [
    {
     "data": {
      "text/plain": [
       "array([ 1,  1,  7, 21, 37, 20, 11,  1])"
      ]
     },
     "execution_count": 18,
     "metadata": {},
     "output_type": "execute_result"
    }
   ],
   "source": [
    "# Ініціалізація масиву для збереження частот попадання значень у кожен інтервал\n",
    "N = np.zeros(shape=m, dtype=int)\n",
    "\n",
    "# Підрахунок кількості значень, що потрапляють у відповідні інтервали\n",
    "for i in range(n):\n",
    "    for j in range(m):\n",
    "        if j != m - 1:\n",
    "            if intervals[j, 0] <= X[i] < intervals[j, 1]:  # відкритий правий кінець\n",
    "                N[j] += 1\n",
    "                break\n",
    "        else:\n",
    "            if intervals[j, 0] <= X[i] <= intervals[j, 1]:  # останній інтервал включає обидві межі\n",
    "                N[j] += 1\n",
    "                break\n",
    "\n",
    "# Виведення частотного розподілу по інтервалах\n",
    "N"
   ]
  },
  {
   "cell_type": "code",
   "execution_count": 19,
   "id": "548e7acddc7dfc70",
   "metadata": {
    "ExecuteTime": {
     "end_time": "2025-05-22T08:23:28.258078Z",
     "start_time": "2025-05-22T08:23:28.254015Z"
    }
   },
   "outputs": [
    {
     "data": {
      "text/plain": [
       "array([0.01, 0.01, 0.07, 0.21, 0.37, 0.2 , 0.11, 0.01])"
      ]
     },
     "execution_count": 19,
     "metadata": {},
     "output_type": "execute_result"
    }
   ],
   "source": [
    "# Відносна частота\n",
    "W = N / n\n",
    "W"
   ]
  },
  {
   "cell_type": "code",
   "execution_count": 20,
   "id": "966be18d9a3dfa83",
   "metadata": {
    "ExecuteTime": {
     "end_time": "2025-05-22T08:23:28.376160Z",
     "start_time": "2025-05-22T08:23:28.371251Z"
    }
   },
   "outputs": [
    {
     "data": {
      "text/plain": [
       "array([ 1,  2,  9, 30, 67, 87, 98, 99])"
      ]
     },
     "execution_count": 20,
     "metadata": {},
     "output_type": "execute_result"
    }
   ],
   "source": [
    "# Накопичена частота\n",
    "N_cum = np.cumsum(N)\n",
    "N_cum"
   ]
  },
  {
   "cell_type": "code",
   "execution_count": 21,
   "id": "f14ac3fe354bbc11",
   "metadata": {
    "ExecuteTime": {
     "end_time": "2025-05-22T08:23:28.456481Z",
     "start_time": "2025-05-22T08:23:28.450514Z"
    }
   },
   "outputs": [
    {
     "data": {
      "text/plain": [
       "array([0.01, 0.02, 0.09, 0.3 , 0.67, 0.87, 0.98, 0.99])"
      ]
     },
     "execution_count": 21,
     "metadata": {},
     "output_type": "execute_result"
    }
   ],
   "source": [
    "# Накопичена відносна частота\n",
    "W_cum = N_cum / n\n",
    "W_cum"
   ]
  },
  {
   "cell_type": "code",
   "execution_count": 45,
   "id": "568139752c3e27b",
   "metadata": {
    "ExecuteTime": {
     "end_time": "2025-05-22T08:23:28.512424Z",
     "start_time": "2025-05-22T08:23:28.498569Z"
    }
   },
   "outputs": [
    {
     "data": {
      "text/html": [
       "<div>\n",
       "<style scoped>\n",
       "    .dataframe tbody tr th:only-of-type {\n",
       "        vertical-align: middle;\n",
       "    }\n",
       "\n",
       "    .dataframe tbody tr th {\n",
       "        vertical-align: top;\n",
       "    }\n",
       "\n",
       "    .dataframe thead th {\n",
       "        text-align: right;\n",
       "    }\n",
       "</style>\n",
       "<table border=\"1\" class=\"dataframe\">\n",
       "  <thead>\n",
       "    <tr style=\"text-align: right;\">\n",
       "      <th></th>\n",
       "      <th>Інтервал</th>\n",
       "      <th>Середини інтервалів x_i</th>\n",
       "      <th>Частота n_i</th>\n",
       "      <th>Частість w_i</th>\n",
       "      <th>Накопичена частота n_i^нак</th>\n",
       "      <th>Накопичена частість w_i^нак</th>\n",
       "    </tr>\n",
       "  </thead>\n",
       "  <tbody>\n",
       "    <tr>\n",
       "      <th>0</th>\n",
       "      <td>[-4.704; -3.684)</td>\n",
       "      <td>-4.194</td>\n",
       "      <td>1</td>\n",
       "      <td>0.01</td>\n",
       "      <td>1</td>\n",
       "      <td>0.01</td>\n",
       "    </tr>\n",
       "    <tr>\n",
       "      <th>1</th>\n",
       "      <td>[-3.684; -2.664)</td>\n",
       "      <td>-3.174</td>\n",
       "      <td>1</td>\n",
       "      <td>0.01</td>\n",
       "      <td>2</td>\n",
       "      <td>0.02</td>\n",
       "    </tr>\n",
       "    <tr>\n",
       "      <th>2</th>\n",
       "      <td>[-2.664; -1.644)</td>\n",
       "      <td>-2.154</td>\n",
       "      <td>7</td>\n",
       "      <td>0.07</td>\n",
       "      <td>9</td>\n",
       "      <td>0.09</td>\n",
       "    </tr>\n",
       "    <tr>\n",
       "      <th>3</th>\n",
       "      <td>[-1.644; -0.624)</td>\n",
       "      <td>-1.134</td>\n",
       "      <td>21</td>\n",
       "      <td>0.21</td>\n",
       "      <td>30</td>\n",
       "      <td>0.3</td>\n",
       "    </tr>\n",
       "    <tr>\n",
       "      <th>4</th>\n",
       "      <td>[-0.624; 0.396)</td>\n",
       "      <td>-0.114</td>\n",
       "      <td>37</td>\n",
       "      <td>0.37</td>\n",
       "      <td>67</td>\n",
       "      <td>0.67</td>\n",
       "    </tr>\n",
       "    <tr>\n",
       "      <th>5</th>\n",
       "      <td>[0.396; 1.416)</td>\n",
       "      <td>0.906</td>\n",
       "      <td>20</td>\n",
       "      <td>0.20</td>\n",
       "      <td>87</td>\n",
       "      <td>0.87</td>\n",
       "    </tr>\n",
       "    <tr>\n",
       "      <th>6</th>\n",
       "      <td>[1.416; 2.436)</td>\n",
       "      <td>1.926</td>\n",
       "      <td>11</td>\n",
       "      <td>0.11</td>\n",
       "      <td>98</td>\n",
       "      <td>0.98</td>\n",
       "    </tr>\n",
       "    <tr>\n",
       "      <th>7</th>\n",
       "      <td>[2.436; 3.456)</td>\n",
       "      <td>2.946</td>\n",
       "      <td>1</td>\n",
       "      <td>0.01</td>\n",
       "      <td>99</td>\n",
       "      <td>0.99</td>\n",
       "    </tr>\n",
       "    <tr>\n",
       "      <th>-1</th>\n",
       "      <td>Сума</td>\n",
       "      <td>-</td>\n",
       "      <td>99</td>\n",
       "      <td>0.99</td>\n",
       "      <td>-</td>\n",
       "      <td>-</td>\n",
       "    </tr>\n",
       "  </tbody>\n",
       "</table>\n",
       "</div>"
      ],
      "text/plain": [
       "            Інтервал Середини інтервалів x_i  Частота n_i  Частість w_i  \\\n",
       " 0  [-4.704; -3.684)                  -4.194            1          0.01   \n",
       " 1  [-3.684; -2.664)                  -3.174            1          0.01   \n",
       " 2  [-2.664; -1.644)                  -2.154            7          0.07   \n",
       " 3  [-1.644; -0.624)                  -1.134           21          0.21   \n",
       " 4   [-0.624; 0.396)                  -0.114           37          0.37   \n",
       " 5    [0.396; 1.416)                   0.906           20          0.20   \n",
       " 6    [1.416; 2.436)                   1.926           11          0.11   \n",
       " 7    [2.436; 3.456)                   2.946            1          0.01   \n",
       "-1              Сума                       -           99          0.99   \n",
       "\n",
       "   Накопичена частота n_i^нак Накопичена частість w_i^нак  \n",
       " 0                          1                        0.01  \n",
       " 1                          2                        0.02  \n",
       " 2                          9                        0.09  \n",
       " 3                         30                         0.3  \n",
       " 4                         67                        0.67  \n",
       " 5                         87                        0.87  \n",
       " 6                         98                        0.98  \n",
       " 7                         99                        0.99  \n",
       "-1                          -                           -  "
      ]
     },
     "execution_count": 45,
     "metadata": {},
     "output_type": "execute_result"
    }
   ],
   "source": [
    "# Повна таблиця\n",
    "d = {\"Інтервал\": [f\"[{row[0]}; {row[1]})\" for row in intervals],\n",
    "     \"Середини інтервалів x_i\": interval_mids,\n",
    "     \"Частота n_i\": N,\n",
    "     \"Частість w_i\": W,\n",
    "     \"Накопичена частота n_i^нак\": N_cum,\n",
    "     \"Накопичена частість w_i^нак\": W_cum}\n",
    "df2 = pd.DataFrame(data=d)\n",
    "df2.loc[-1] = ['Сума', '-', sum(N), sum(W), '-', '-']\n",
    "df2"
   ]
  },
  {
   "cell_type": "code",
   "execution_count": 23,
   "id": "3297792aae405ee5",
   "metadata": {
    "ExecuteTime": {
     "end_time": "2025-05-22T08:23:29.792455Z",
     "start_time": "2025-05-22T08:23:28.568765Z"
    }
   },
   "outputs": [
    {
     "data": {
      "image/png": "[encoded data removed]",
      "text/plain": [
       "<Figure size 640x480 with 1 Axes>"
      ]
     },
     "metadata": {},
     "output_type": "display_data"
    }
   ],
   "source": [
    "# Полігон для інтервального варіаційного ряду\n",
    "import matplotlib.pyplot as plt\n",
    "fig, ax = plt.subplots()\n",
    "ax.plot(interval_mids, W, marker='o')\n",
    "plt.xticks(interval_mids, rotation=25)\n",
    "ax.set_xlabel('x_i')\n",
    "ax.set_ylabel('w_i')\n",
    "ax.set_title(\"Полігон для інтервального варіаційного ряду\")\n",
    "plt.show()"
   ]
  },
  {
   "cell_type": "code",
   "execution_count": 25,
   "id": "c515c80d2e7fcda9",
   "metadata": {
    "ExecuteTime": {
     "end_time": "2025-05-22T08:23:30.006645Z",
     "start_time": "2025-05-22T08:23:29.832876Z"
    }
   },
   "outputs": [
    {
     "data": {
      "image/png": "[encoded data removed]",
      "text/plain": [
       "<Figure size 640x480 with 1 Axes>"
      ]
     },
     "metadata": {},
     "output_type": "display_data"
    }
   ],
   "source": [
    "# Гістограма для інтервального варіаційного ряду\n",
    "fig, ax = plt.subplots()\n",
    "bins = np.append(intervals[:, 0], intervals[-1, 1])\n",
    "plt.hist(X, bins=bins, rwidth=0.9)\n",
    "plt.xticks(bins, rotation=30)\n",
    "\n",
    "# Мода\n",
    "mo_index = N.argmax()\n",
    "if not 0 < mo_index < m-1:\n",
    "    raise Exception(\"Неможливо знайти моду методом лінійної інтерполяції\")\n",
    "\n",
    "line_x = [intervals[mo_index, 0], intervals[mo_index, 1]]\n",
    "line1_y = [N[mo_index-1], N[mo_index]]\n",
    "line2_y = [N[mo_index], N[mo_index+1]]\n",
    "frac_1 = (line1_y[1] - line1_y[0]) / (line_x[1] - line_x[0])\n",
    "k_1, b_1 = frac_1, line1_y[0] - frac_1 * line_x[0]\n",
    "frac_2 = (line2_y[1] - line2_y[0]) / (line_x[1] - line_x[0])\n",
    "k_2, b_2 = frac_2, line2_y[0] - frac_2 * line_x[0]\n",
    "intersect_x = (b_2 - b_1) / (k_1 - k_2)\n",
    "intersect_y = k_1 * intersect_x + b_1\n",
    "\n",
    "plt.plot(line_x, line1_y, color='red', marker='o')\n",
    "plt.plot(line_x, line2_y, color='red', marker='o')\n",
    "plt.plot([intersect_x, intersect_x], [0, intersect_y], color='red', marker='o')\n",
    "plt.annotate(f\"Mo = {intersect_x:.3f}\", xy=(intersect_x, intersect_y), fontsize=11)\n",
    "ax.set_xlabel('x_i')\n",
    "ax.set_ylabel('n_i')\n",
    "ax.set_title(\"Гістограма для інтервального варіаційного ряду\")\n",
    "plt.show()"
   ]
  },
  {
   "cell_type": "code",
   "execution_count": 26,
   "id": "ca0f1f1a9fb6d30a",
   "metadata": {
    "ExecuteTime": {
     "end_time": "2025-05-22T08:23:30.366525Z",
     "start_time": "2025-05-22T08:23:30.209577Z"
    }
   },
   "outputs": [
    {
     "data": {
      "image/png": "[encoded data removed]",
      "text/plain": [
       "<Figure size 640x480 with 1 Axes>"
      ]
     },
     "metadata": {},
     "output_type": "display_data"
    }
   ],
   "source": [
    "# Кумулята для інтервального варіаційного ряду\n",
    "fig, ax = plt.subplots()\n",
    "x_i = np.append(intervals[:, 0], intervals[-1, 1])\n",
    "y_i = np.append(0, W_cum)\n",
    "plt.plot(x_i, y_i, marker='o')\n",
    "\n",
    "delta = 0.3\n",
    "for x, y in zip(x_i, y_i):\n",
    "    plt.plot([x, x, x_i[0] - delta], [0, y, y], color='grey', linestyle='--')\n",
    "\n",
    "# Медіана\n",
    "me_upper_index = 0\n",
    "for i in range(len(y_i)):\n",
    "    if y_i[i] > 0.5:\n",
    "        me_upper_index = i\n",
    "        break\n",
    "line_x = [x_i[me_upper_index-1], x_i[me_upper_index]]\n",
    "line_y = [y_i[me_upper_index-1], y_i[me_upper_index]]\n",
    "frac = (line_y[1] - line_y[0]) / (line_x[1] - line_x[0])\n",
    "k, b = frac, line_y[0] - frac * line_x[0]\n",
    "intersect_x = (0.5 - b) / k\n",
    "\n",
    "plt.plot([x_i[0] - delta, intersect_x, intersect_x],\n",
    "         [0.5, 0.5, 0], color='red', marker='o', linestyle='--')\n",
    "plt.annotate(f\"Me = {intersect_x:.3f}\", xy=(intersect_x, 0.5), fontsize=11)\n",
    "plt.xticks(x_i, rotation=25)\n",
    "plt.yticks(np.arange(0, 1.1, 0.1, dtype=float))\n",
    "plt.ylim(0, W_cum[-1])\n",
    "plt.xlim(x_i[0] - delta , x_i[-1] + delta)\n",
    "ax.set_title(\"Кумулята для інтервального варіаційного ряду\")\n",
    "ax.set_xlabel('x_i')\n",
    "ax.set_ylabel('w_i^нак')\n",
    "plt.show()"
   ]
  },
  {
   "cell_type": "code",
   "execution_count": 27,
   "id": "df26ebc316f48273",
   "metadata": {
    "ExecuteTime": {
     "end_time": "2025-05-22T09:03:09.150982Z",
     "start_time": "2025-05-22T09:03:09.143476Z"
    }
   },
   "outputs": [
    {
     "name": "stdout",
     "output_type": "stream",
     "text": [
      "Розподіл має лівосторонню асиметрію\n",
      "Полігон варіаційного ряду має більш круту вершину в порівнянні з нормальною кривою\n",
      "-0.083 1.544 1.243 -0.25878732580917696 0.448079143064243\n"
     ]
    }
   ],
   "source": [
    "# Середнє зважене вибіркове\n",
    "x_average = np.round(np.average(a=interval_mids, weights=N), 3)\n",
    "\n",
    "# Центральний момент nu_k k-го порядку\n",
    "def nu_k(k_order: int, x_data, average, numbers):\n",
    "    return np.round(np.average((x_data - average)**k_order, weights=numbers), 3)\n",
    "\n",
    "# Вибіркова дисперсія\n",
    "x_variance = nu_k(2, interval_mids, x_average, N)\n",
    "# Стандартне квадратичне відхилення\n",
    "x_std = np.round(np.sqrt(x_variance), 3)\n",
    "# Коефіцієнт асиметрії\n",
    "a_wave = nu_k(3, interval_mids, x_average, N) / np.power(x_std, 3)\n",
    "if a_wave == 0:\n",
    "    print(\"Розподіл має симетричну форму\")\n",
    "elif a_wave > 0:\n",
    "    print(\"Розподіл має правосторонню асиметрію\")\n",
    "else:\n",
    "    print(\"Розподіл має лівосторонню асиметрію\")\n",
    "\n",
    "# Ексцес\n",
    "e_wave = nu_k(4, interval_mids, x_average, N) / np.power(x_variance, 2) - 3\n",
    "if e_wave > 0:\n",
    "    print(\"Полігон варіаційного ряду має більш круту вершину в порівнянні з нормальною кривою\")\n",
    "elif e_wave < 0:\n",
    "    print(\"Полігон варіаційного ряду має більш пологу вершину в порівнянні з нормальною кривою\")\n",
    "\n",
    "print(x_average, x_variance, x_std, a_wave, e_wave)"
   ]
  },
  {
   "cell_type": "code",
   "execution_count": 28,
   "id": "12ae696cbcad0f2b",
   "metadata": {
    "ExecuteTime": {
     "end_time": "2025-05-22T08:23:30.648373Z",
     "start_time": "2025-05-22T08:23:30.643743Z"
    }
   },
   "outputs": [
    {
     "name": "stdout",
     "output_type": "stream",
     "text": [
      "Вибірка містить як від'ємні, так і додатні значення, отже вибірка є неоднорідною\n"
     ]
    }
   ],
   "source": [
    "# Коефіцієнт варіації\n",
    "if interval_mids[0] * interval_mids[-1] < 0: # Різні знаки крайніх значень\n",
    "    print(\"Вибірка містить як від'ємні, так і додатні значення, отже вибірка є неоднорідною\")\n",
    "else:\n",
    "    v_wave = np.round(np.sqrt(x_variance) / x_average * 100, 3)\n",
    "    if np.abs(v_wave) < 25:\n",
    "        print(\"Вибірка є однорідною\")\n",
    "    elif 25 <= np.abs(v_wave) < 50:\n",
    "        print(\"Вибірка має деякі розбіжності\")\n",
    "    else:\n",
    "        print(\"Вибірка є неоднорідною\")"
   ]
  },
  {
   "cell_type": "markdown",
   "id": "4578c4198eb7909c",
   "metadata": {},
   "source": [
    "\n",
    "\n",
    "Точкові та інтервальні оцінки параметрів розподілу. \n",
    "Методи знаходження точкових оцінок. Побудова \n",
    "довірчих інтервалів. Перевірка статистичних гіпотез."
   ]
  },
  {
   "cell_type": "code",
   "execution_count": 29,
   "id": "fcf1425ca6d03cbc",
   "metadata": {
    "ExecuteTime": {
     "end_time": "2025-05-22T08:23:36.180569Z",
     "start_time": "2025-05-22T08:23:30.724626Z"
    }
   },
   "outputs": [
    {
     "data": {
      "image/png": "[encoded data removed]",
      "text/plain": [
       "<Figure size 640x480 with 1 Axes>"
      ]
     },
     "metadata": {},
     "output_type": "display_data"
    }
   ],
   "source": [
    "# За гістограмою спостерігається теоретична залежність між значеннями інтервального розподілу та їхніми відносними частотами, що наближається до нормального розподілу.\n",
    "\n",
    "# Гістограма для інтервального варіаційного ряду\n",
    "fig, ax = plt.subplots()\n",
    "bins = np.append(intervals[:, 0], intervals[-1, 1])\n",
    "plt.hist(interval_mids, weights=W, bins=bins, rwidth=0.9)\n",
    "\n",
    "# Нормальна крива за незміщеними оцінками\n",
    "x_norm = np.linspace(interval_mids[0] - delta, interval_mids[-1] + delta, 100)\n",
    "from scipy.stats import norm\n",
    "plt.plot(x_norm, norm.pdf(x_norm, loc=x_average, scale=np.sqrt(x_variance)), color='red')\n",
    "\n",
    "plt.xticks(bins, rotation=25)\n",
    "ax.set_xlabel('x_i')\n",
    "ax.set_ylabel('w_i')\n",
    "ax.set_title(\"Гістограма для інтервального варіаційного ряду\")\n",
    "plt.show()"
   ]
  },
  {
   "cell_type": "code",
   "execution_count": 30,
   "id": "35bb3f5d91d6baba",
   "metadata": {
    "ExecuteTime": {
     "end_time": "2025-05-22T08:23:36.230297Z",
     "start_time": "2025-05-22T08:23:36.224962Z"
    }
   },
   "outputs": [
    {
     "name": "stdout",
     "output_type": "stream",
     "text": [
      "-0.083\n",
      "1.544\n"
     ]
    }
   ],
   "source": [
    "# Незміщена оцінка генерального середнього - вибіркове середнє\n",
    "print(x_average)\n",
    "\n",
    "# Ефективна (найкраща незміщена оцінка) дисперсії - вибіркова дисперсія\n",
    "print(x_variance)"
   ]
  },
  {
   "cell_type": "code",
   "execution_count": 32,
   "id": "b1ecca9d8833ccf4",
   "metadata": {
    "ExecuteTime": {
     "end_time": "2025-05-22T08:23:36.632038Z",
     "start_time": "2025-05-22T08:23:36.624570Z"
    }
   },
   "outputs": [
    {
     "name": "stdout",
     "output_type": "stream",
     "text": [
      "delta: 2.045\n",
      "Довірчий інтервал для генерального середнього: [-2.128; 1.962]\n"
     ]
    }
   ],
   "source": [
    "# Побудуємо довірчий інтервал для середнього значення генеральної сукупності при довірчій ймовірності 0.95.\n",
    "import scipy.stats as st\n",
    "gamma = 0.95\n",
    "t = np.round(st.norm.ppf(gamma), 3)\n",
    "sigma = x_std\n",
    "delta = t * sigma\n",
    "\n",
    "print(f\"delta: {delta:.3f}\")\n",
    "print(f\"Довірчий інтервал для генерального середнього: [{(x_average - delta):.3f}; {(x_average + delta):.3f}]\")"
   ]
  },
  {
   "cell_type": "code",
   "execution_count": 33,
   "id": "b6e635d892d35b8b",
   "metadata": {
    "ExecuteTime": {
     "end_time": "2025-05-22T10:08:28.101824Z",
     "start_time": "2025-05-22T10:08:28.092316Z"
    }
   },
   "outputs": [
    {
     "name": "stdout",
     "output_type": "stream",
     "text": [
      "Довірчий інтервал для генеральної дисперсії: [1.202; 2.105]\n"
     ]
    }
   ],
   "source": [
    "# Побудуємо довірчий інтервал для дисперсії генеральної сукупності при довірчій ймовірності 0.95.\n",
    "gamma = 0.95\n",
    "X_sq_1 = st.chi2.isf((1+gamma)/2, n-1, loc=0, scale=1)\n",
    "X_sq_2 = st.chi2.isf((1-gamma)/2, n-1, loc=0, scale=1)\n",
    "start = n * x_variance / X_sq_1\n",
    "end = n * x_variance / X_sq_2\n",
    "if not start < end:\n",
    "    end, start = start, end\n",
    "print(f\"Довірчий інтервал для генеральної дисперсії: [{start:.3f}; {end:.3f}]\")"
   ]
  },
  {
   "cell_type": "code",
   "execution_count": 34,
   "id": "eabd168c3d8d204e",
   "metadata": {
    "ExecuteTime": {
     "end_time": "2025-05-22T08:23:36.849051Z",
     "start_time": "2025-05-22T08:23:36.836255Z"
    }
   },
   "outputs": [
    {
     "name": "stdout",
     "output_type": "stream",
     "text": [
      "Гіпотеза H_0 не відхилається, отже приймається\n"
     ]
    },
    {
     "data": {
      "text/plain": [
       "(np.float64(1.337), np.float64(1.66))"
      ]
     },
     "execution_count": 34,
     "metadata": {},
     "output_type": "execute_result"
    }
   ],
   "source": [
    "# Сформулюємо нульову та альтернативну гіпотези:  𝐻0:𝑎=−0.25, 𝐻1:𝑎<−0.25\n",
    "# На рівні значущості 𝛼=0.05 перевіримо коректність нульової гіпотези відносно альтернативної та визначимо потужність статистичного критерію.\n",
    "\n",
    "# Т спостереження\n",
    "a_0 = -0.25\n",
    "alpha = 0.05\n",
    "s = np.sqrt(1/(n-1) * np.sum((interval_mids - x_average)**2 * N))\n",
    "T_obs = np.round((x_average - a_0) / s * np.sqrt(n-1), 3)\n",
    "\n",
    "# t критичне\n",
    "t_cr = np.round(st.t.ppf(1-alpha, n-1), 3)\n",
    "\n",
    "if np.abs(T_obs) >= t_cr or T_obs >= t_cr or T_obs <= -t_cr:\n",
    "    print(\"Гіпотеза H_0 відхилається\")\n",
    "else:\n",
    "    print(\"Гіпотеза H_0 не відхилається, отже приймається\")\n",
    "\n",
    "T_obs, t_cr"
   ]
  },
  {
   "cell_type": "code",
   "execution_count": 35,
   "id": "665ba137f69a4a5d",
   "metadata": {
    "ExecuteTime": {
     "end_time": "2025-05-22T08:23:36.940295Z",
     "start_time": "2025-05-22T08:23:36.934566Z"
    }
   },
   "outputs": [
    {
     "data": {
      "text/plain": [
       "np.float64(0.98)"
      ]
     },
     "execution_count": 35,
     "metadata": {},
     "output_type": "execute_result"
    }
   ],
   "source": [
    "# Потужність критерію\n",
    "a_1 = -0.2\n",
    "phi_arg = t_cr - (a_0-a_1)/s * np.sqrt(n-1)\n",
    "criteria_power = np.round(st.norm.cdf(phi_arg), 3)\n",
    "criteria_power"
   ]
  },
  {
   "cell_type": "code",
   "execution_count": 36,
   "id": "6d7bec47c9784d06",
   "metadata": {
    "ExecuteTime": {
     "end_time": "2025-05-22T08:23:37.011519Z",
     "start_time": "2025-05-22T08:23:37.004705Z"
    }
   },
   "outputs": [
    {
     "name": "stdout",
     "output_type": "stream",
     "text": [
      "7020.0\n"
     ]
    }
   ],
   "source": [
    "# Мінімальний обсяг вибірки, що забезпечує даний рівень значущості та потужність критерію\n",
    "beta = 1 - criteria_power\n",
    "n_min = np.round((st.t.ppf(1-2*alpha, n-1) + st.t.ppf(1-beta, n-1))**2 * x_variance /\n",
    "                 (a_0 - a_1)**2)\n",
    "print(n_min)"
   ]
  }
 ],
 "metadata": {
  "kernelspec": {
   "display_name": "Python 3",
   "language": "python",
   "name": "python3"
  },
  "language_info": {
   "codemirror_mode": {
    "name": "ipython",
    "version": 3
   },
   "file_extension": ".py",
   "mimetype": "text/x-python",
   "name": "python",
   "nbconvert_exporter": "python",
   "pygments_lexer": "ipython3",
   "version": "3.13.3"
  }
 },
 "nbformat": 4,
 "nbformat_minor": 5
}
